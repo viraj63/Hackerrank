{
 "cells": [
  {
   "cell_type": "code",
   "execution_count": 1,
   "id": "d0a43ae2",
   "metadata": {},
   "outputs": [
    {
     "name": "stdout",
     "output_type": "stream",
     "text": [
      "2\n",
      "10\n",
      "100\n",
      "23\n",
      "2318\n"
     ]
    }
   ],
   "source": [
    "t1=int(input())\n",
    "a=[]\n",
    "for _ in range(t1):\n",
    "    a.append(int(input()))\n",
    "lis1=[]\n",
    "for i in a:\n",
    "    temp_lis=[]\n",
    "    for j in range(1,int(i/2)):\n",
    "        if 3*j<i:\n",
    "            temp_lis.append(3*j)\n",
    "        if 5*j<i:\n",
    "            temp_lis.append(5*j)\n",
    "    lis1.append(temp_lis)\n",
    "g=[]\n",
    "for i in lis1:\n",
    "   g.append(set(i)) \n",
    "for i in g:\n",
    "    print(sum(i))"
   ]
  },
  {
   "cell_type": "code",
   "execution_count": null,
   "id": "f6a8321b",
   "metadata": {},
   "outputs": [],
   "source": [
    "#the above code has a greater time complexity"
   ]
  },
  {
   "cell_type": "code",
   "execution_count": null,
   "id": "730a6af4",
   "metadata": {},
   "outputs": [],
   "source": [
    "Here The code run with constant time \n",
    "t1=int(input())\n",
    "\n",
    "for _ in range(t1):\n",
    "    n=int(input())\n",
    "    #using Arthemetic summation sum=n/2( 2a +(n-1)/2 )\n",
    "    multiple3=(n-1)//3\n",
    "    sum1=(3*multiple3*(multiple3+1))//2 \n",
    "    \n",
    "    multiple5=(n-1)//5\n",
    "    sum2=(5*multiple5*(multiple5+1))//2    \n",
    "    \n",
    "    multiple15=(n-1)//15\n",
    "    sum3=15*multiple15*(multiple15+1)//2 \n",
    "    \n",
    "    total=int(sum1+sum2 - sum3)\n",
    "    print(total) "
   ]
  },
  {
   "cell_type": "code",
   "execution_count": null,
   "id": "7efbac89",
   "metadata": {},
   "outputs": [],
   "source": []
  }
 ],
 "metadata": {
  "kernelspec": {
   "display_name": "Python 3 (ipykernel)",
   "language": "python",
   "name": "python3"
  },
  "language_info": {
   "codemirror_mode": {
    "name": "ipython",
    "version": 3
   },
   "file_extension": ".py",
   "mimetype": "text/x-python",
   "name": "python",
   "nbconvert_exporter": "python",
   "pygments_lexer": "ipython3",
   "version": "3.9.12"
  }
 },
 "nbformat": 4,
 "nbformat_minor": 5
}
