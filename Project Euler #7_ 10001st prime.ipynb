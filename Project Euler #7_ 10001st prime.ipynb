{
 "cells": [
  {
   "cell_type": "code",
   "execution_count": 12,
   "id": "1544e09e",
   "metadata": {},
   "outputs": [
    {
     "name": "stdout",
     "output_type": "stream",
     "text": [
      "2\n",
      "3\n",
      "6\n",
      "5\n",
      "13\n"
     ]
    }
   ],
   "source": [
    "#!/bin/python3\n",
    "a=int(input())\n",
    "lis=[]\n",
    "for _ in range(a):  #first taking all the number in the\n",
    "    lis.append(int(input()))\n",
    "#print(lis)\n",
    "lis1=[]\n",
    "count=0\n",
    "for i in range(2, 10000):\n",
    "    prime = True\n",
    "    for j in range(2, int(i ** 0.5) + 1):\n",
    "        if i % j == 0:\n",
    "            prime = False\n",
    "            break\n",
    "    if prime:\n",
    "        lis1.append(i)\n",
    "        count+=1\n",
    "    if count== lis1[-1]:\n",
    "        break\n",
    "\n",
    "for j in lis:\n",
    "    print(lis1[j-1])\n",
    "    \n",
    "\n"
   ]
  },
  {
   "cell_type": "code",
   "execution_count": null,
   "id": "7580f239",
   "metadata": {},
   "outputs": [],
   "source": [
    "#Case 3 and case_4 runtime issue"
   ]
  },
  {
   "cell_type": "code",
   "execution_count": null,
   "id": "d418513c",
   "metadata": {},
   "outputs": [],
   "source": []
  }
 ],
 "metadata": {
  "kernelspec": {
   "display_name": "Python 3 (ipykernel)",
   "language": "python",
   "name": "python3"
  },
  "language_info": {
   "codemirror_mode": {
    "name": "ipython",
    "version": 3
   },
   "file_extension": ".py",
   "mimetype": "text/x-python",
   "name": "python",
   "nbconvert_exporter": "python",
   "pygments_lexer": "ipython3",
   "version": "3.9.12"
  }
 },
 "nbformat": 4,
 "nbformat_minor": 5
}
