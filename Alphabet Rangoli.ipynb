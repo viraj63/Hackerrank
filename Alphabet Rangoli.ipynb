{
 "cells": [
  {
   "cell_type": "markdown",
   "id": "0ad8aa57",
   "metadata": {},
   "source": [
    "You are given an integer, . Your task is to print an alphabet rangoli of size . (Rangoli is a form of Indian folk art based on creation of patterns.)\n",
    "\n",
    "Different sizes of alphabet rangoli are shown below:"
   ]
  },
  {
   "cell_type": "markdown",
   "id": "2992fbca",
   "metadata": {},
   "source": [
    "#size 5\n",
    "\n",
    "--------e--------\n",
    "------e-d-e------\n",
    "----e-d-c-d-e----\n",
    "--e-d-c-b-c-d-e--\n",
    "e-d-c-b-a-b-c-d-e\n",
    "--e-d-c-b-c-d-e--\n",
    "----e-d-c-d-e----\n",
    "------e-d-e------\n",
    "--------e--------"
   ]
  },
  {
   "cell_type": "code",
   "execution_count": 69,
   "id": "ccee2154",
   "metadata": {},
   "outputs": [],
   "source": [
    "def print_rangoli(size):\n",
    "    n=size\n",
    "    l1=list(map(chr,range(97,123)))\n",
    "    x=l1[n-1::-1]+ l1[1:n]\n",
    "    m=len('-'.join(x))\n",
    "    for i in range(1,n):\n",
    "        print(\"-\".join(l1[n-1:n-i:-1]+ l1[n-i:n]).center(m,'-'))\n",
    "        \n",
    "    for i in range(n,0,-1):\n",
    "        print(\"-\".join(l1[n-1:n-i:-1]+ l1[n-i:n]).center(m,'-'))\n",
    "        "
   ]
  },
  {
   "cell_type": "code",
   "execution_count": 70,
   "id": "868373f1",
   "metadata": {},
   "outputs": [
    {
     "name": "stdout",
     "output_type": "stream",
     "text": [
      "--------e--------\n",
      "------e-d-e------\n",
      "----e-d-c-d-e----\n",
      "--e-d-c-b-c-d-e--\n",
      "e-d-c-b-a-b-c-d-e\n",
      "--e-d-c-b-c-d-e--\n",
      "----e-d-c-d-e----\n",
      "------e-d-e------\n",
      "--------e--------\n"
     ]
    }
   ],
   "source": [
    "print_rangoli(5)"
   ]
  },
  {
   "cell_type": "code",
   "execution_count": null,
   "id": "5f141975",
   "metadata": {},
   "outputs": [],
   "source": [
    "\n",
    "  \n"
   ]
  },
  {
   "cell_type": "code",
   "execution_count": null,
   "id": "6843b603",
   "metadata": {},
   "outputs": [],
   "source": []
  },
  {
   "cell_type": "code",
   "execution_count": null,
   "id": "aa8c42ec",
   "metadata": {},
   "outputs": [],
   "source": []
  }
 ],
 "metadata": {
  "kernelspec": {
   "display_name": "Python 3 (ipykernel)",
   "language": "python",
   "name": "python3"
  },
  "language_info": {
   "codemirror_mode": {
    "name": "ipython",
    "version": 3
   },
   "file_extension": ".py",
   "mimetype": "text/x-python",
   "name": "python",
   "nbconvert_exporter": "python",
   "pygments_lexer": "ipython3",
   "version": "3.9.12"
  }
 },
 "nbformat": 4,
 "nbformat_minor": 5
}
