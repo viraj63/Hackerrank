{
 "cells": [
  {
   "cell_type": "code",
   "execution_count": 1,
   "id": "d2e9916b",
   "metadata": {},
   "outputs": [
    {
     "name": "stdout",
     "output_type": "stream",
     "text": [
      "9\n",
      "1 2 3 4 5 6 7 8 9\n",
      "9\n",
      "10 1 2 3 11 21 55 6 8\n",
      "4\n"
     ]
    }
   ],
   "source": [
    "a=int(input())\n",
    "s=set(map(int,input().split()))\n",
    "c=int(input())\n",
    "s1=set(map(int,input().split()))\n",
    "print(len(s.difference(s1)))"
   ]
  },
  {
   "cell_type": "code",
   "execution_count": null,
   "id": "2910737f",
   "metadata": {},
   "outputs": [],
   "source": []
  }
 ],
 "metadata": {
  "kernelspec": {
   "display_name": "Python 3 (ipykernel)",
   "language": "python",
   "name": "python3"
  },
  "language_info": {
   "codemirror_mode": {
    "name": "ipython",
    "version": 3
   },
   "file_extension": ".py",
   "mimetype": "text/x-python",
   "name": "python",
   "nbconvert_exporter": "python",
   "pygments_lexer": "ipython3",
   "version": "3.9.12"
  }
 },
 "nbformat": 4,
 "nbformat_minor": 5
}
