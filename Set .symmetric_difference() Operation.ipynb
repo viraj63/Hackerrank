{
 "cells": [
  {
   "cell_type": "markdown",
   "id": "780fc023",
   "metadata": {},
   "source": [
    ".symmetric_difference()\n",
    "The .symmetric_difference() operator returns a set with all the elements that are in the set and the iterable but not both.\n",
    "Sometimes, a ^ operator is used in place of the .symmetric_difference() tool, but it only operates on the set of elements in set.\n",
    "The set is immutable to the .symmetric_difference() operation (or ^ operation)."
   ]
  },
  {
   "cell_type": "markdown",
   "id": "79e8c7fd",
   "metadata": {},
   "source": [
    ">>> s = set(\"Hacker\")\n",
    ">>> print s.symmetric_difference(\"Rank\")\n",
    "set(['c', 'e', 'H', 'n', 'R', 'r'])\n",
    "\n",
    ">>> print s.symmetric_difference(set(['R', 'a', 'n', 'k']))\n",
    "set(['c', 'e', 'H', 'n', 'R', 'r'])\n",
    "\n",
    ">>> print s.symmetric_difference(['R', 'a', 'n', 'k'])\n",
    "set(['c', 'e', 'H', 'n', 'R', 'r'])\n",
    "\n",
    ">>> print s.symmetric_difference(enumerate(['R', 'a', 'n', 'k']))\n",
    "set(['a', 'c', 'e', 'H', (0, 'R'), 'r', (2, 'n'), 'k', (1, 'a'), (3, 'k')])\n",
    "\n",
    ">>> print s.symmetric_difference({\"Rank\":1})\n",
    "set(['a', 'c', 'e', 'H', 'k', 'Rank', 'r'])\n",
    "\n",
    ">>> s ^ set(\"Rank\")\n",
    "set(['c', 'e', 'H', 'n', 'R', 'r'])"
   ]
  },
  {
   "cell_type": "markdown",
   "id": "c86dca0e",
   "metadata": {},
   "source": [
    "Task<br>\n",
    "Students of District College have subscriptions to English and French newspapers. Some students have subscribed to English only, some have subscribed to French only, and some have subscribed to both newspapers.\n",
    "\n",
    "You are given two sets of student roll numbers. One set has subscribed to the English newspaper, and one set has subscribed to the French newspaper. Your task is to find the total number of students who have subscribed to either the English or the French newspaper but not both."
   ]
  },
  {
   "cell_type": "markdown",
   "id": "1a9fd2bf",
   "metadata": {},
   "source": [
    "Input Format\n",
    "<br>\n",
    "The first line contains the number of students who have subscribed to the English newspaper.\n",
    "The second line contains the space separated list of student roll numbers who have subscribed to the English newspaper.\n",
    "The third line contains the number of students who have subscribed to the French newspaper.\n",
    "The fourth line contains the space separated list of student roll numbers who have subscribed to the French newspaper.\n",
    "\n",
    "Constraints<br>\n",
    "<br>\n",
    "\n",
    "Output Format<br>\n",
    "\n",
    "Output total number of students who have subscriptions to the English or the French newspaper but not both.<br>\n",
    "\n",
    "Sample Input<br>\n",
    "\n",
    "9<br>\n",
    "1 2 3 4 5 6 7 8 9<br>\n",
    "9<br>\n",
    "10 1 2 3 11 21 55 6 8<br>\n",
    "Sample Output<br>\n",
    "\n",
    "8<br>"
   ]
  },
  {
   "cell_type": "code",
   "execution_count": 3,
   "id": "ac7346f4",
   "metadata": {},
   "outputs": [
    {
     "name": "stdout",
     "output_type": "stream",
     "text": [
      "9\n",
      "1 2 3 4 5 6 7 8 9\n",
      "9\n",
      "10 1 2 3 11 21 55 6 8\n",
      "8\n"
     ]
    }
   ],
   "source": [
    "#`Method1\n",
    "n=int(input())\n",
    "lis1 = list(map(int, input().split()))\n",
    "n2=int(input())\n",
    "lis2 = list(map(int, input().split()))\n",
    "\n",
    "t=max(len(lis1),len(lis2))\n",
    "p=[]\n",
    "for i in range(n):\n",
    "        if lis1[i] not in lis2:\n",
    "            p.append(lis1[i])\n",
    "\n",
    "for j in range(n):\n",
    "    if lis2[j] not in lis1:\n",
    "        p.append(lis2[j])\n",
    "print(len(p))"
   ]
  },
  {
   "cell_type": "code",
   "execution_count": null,
   "id": "98b8bd55",
   "metadata": {},
   "outputs": [],
   "source": [
    "li=set(lis1)\n",
    "li2=set(lis2)\n",
    "\n",
    "print(len(li.symmetric_difference(lis2)))"
   ]
  },
  {
   "cell_type": "code",
   "execution_count": null,
   "id": "621dad8f",
   "metadata": {},
   "outputs": [],
   "source": []
  }
 ],
 "metadata": {
  "kernelspec": {
   "display_name": "Python 3 (ipykernel)",
   "language": "python",
   "name": "python3"
  },
  "language_info": {
   "codemirror_mode": {
    "name": "ipython",
    "version": 3
   },
   "file_extension": ".py",
   "mimetype": "text/x-python",
   "name": "python",
   "nbconvert_exporter": "python",
   "pygments_lexer": "ipython3",
   "version": "3.9.12"
  }
 },
 "nbformat": 4,
 "nbformat_minor": 5
}
