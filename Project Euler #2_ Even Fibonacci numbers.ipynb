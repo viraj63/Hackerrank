{
 "cells": [
  {
   "cell_type": "code",
   "execution_count": 2,
   "id": "990f0ef8",
   "metadata": {},
   "outputs": [
    {
     "name": "stdout",
     "output_type": "stream",
     "text": [
      "2\n",
      "10\n",
      "100\n",
      "10\n",
      "44\n"
     ]
    }
   ],
   "source": [
    "#!/bin/python3\n",
    "\n",
    "s=int(input())\n",
    "list_1=[]\n",
    "for _ in range(s):\n",
    "    list_1.append(int(input()))\n",
    "list_2=[]   \n",
    "for i in list_1: #this for lopp is for creating the fibonacci series\n",
    "    d=[]\n",
    "    a1,a2=0,1\n",
    "    while a1<i: \n",
    "        d.append(a1)\n",
    "        a1,a2=a2,a1+a2\n",
    "    list_2.append(d)\n",
    "mt=[] #creating an empty list so that removing the first 2 numbers 0,1 from the list\n",
    "for i in list_2:\n",
    "    mi=i[2:]\n",
    "    mt.append(mi)\n",
    "z=[]\n",
    "for i in mt:#here i have created another for loop for append the even number in a new list and printing the sum in the list\n",
    "    j=i\n",
    "    f=[]\n",
    "    for num in j:\n",
    "        if num%2 == 0:\n",
    "            f.append(num)\n",
    "    z.append(sum(f))\n",
    "\n",
    "for i in z:#print the sum of the list\n",
    "    print(i) "
   ]
  },
  {
   "cell_type": "code",
   "execution_count": null,
   "id": "e008813e",
   "metadata": {},
   "outputs": [],
   "source": []
  }
 ],
 "metadata": {
  "kernelspec": {
   "display_name": "Python 3 (ipykernel)",
   "language": "python",
   "name": "python3"
  },
  "language_info": {
   "codemirror_mode": {
    "name": "ipython",
    "version": 3
   },
   "file_extension": ".py",
   "mimetype": "text/x-python",
   "name": "python",
   "nbconvert_exporter": "python",
   "pygments_lexer": "ipython3",
   "version": "3.9.12"
  }
 },
 "nbformat": 4,
 "nbformat_minor": 5
}
