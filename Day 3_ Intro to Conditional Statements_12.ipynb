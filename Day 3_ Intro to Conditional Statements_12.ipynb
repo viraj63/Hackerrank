{
 "cells": [
  {
   "cell_type": "code",
   "execution_count": null,
   "id": "5757f2cd",
   "metadata": {},
   "outputs": [],
   "source": []
  },
  {
   "cell_type": "markdown",
   "id": "b8abbafe",
   "metadata": {},
   "source": [
    "Objective\n",
    "In this challenge, we learn about conditional statements. Check out the Tutorial tab for learning materials and an instructional video.\n",
    "\n",
    "Task\n",
    "Given an integer,n , perform the following conditional actions:\n",
    "\n",
    "If n is odd, print Weird\n",
    "If n is even and in the inclusive range of 2 to 5, print Not Weird\n",
    "If n is even and in the inclusive range of 6 to 20, print Weird\n",
    "If n is even and greater than 20, print Not Weird\n",
    "Complete the stub code provided in your editor to print whether or not n is weird."
   ]
  },
  {
   "cell_type": "code",
   "execution_count": 1,
   "id": "62abe1bd",
   "metadata": {},
   "outputs": [
    {
     "name": "stdout",
     "output_type": "stream",
     "text": [
      "23\n",
      "Weird\n"
     ]
    }
   ],
   "source": [
    "inp=int(input())\n",
    "if inp%2!=0:\n",
    "    print(\"Weird\")\n",
    "elif inp%2==0 and (inp>=2 and inp<=5):\n",
    "    print(\"Not Weird\")\n",
    "\n",
    "elif inp%2==0 and (inp>=6 and inp<=20):\n",
    "    print(\"Weird\")\n",
    "elif inp%2==0 and (inp>=20): print(\"Not Weird\")"
   ]
  },
  {
   "cell_type": "code",
   "execution_count": null,
   "id": "4087f26e",
   "metadata": {},
   "outputs": [],
   "source": []
  }
 ],
 "metadata": {
  "kernelspec": {
   "display_name": "Python 3 (ipykernel)",
   "language": "python",
   "name": "python3"
  },
  "language_info": {
   "codemirror_mode": {
    "name": "ipython",
    "version": 3
   },
   "file_extension": ".py",
   "mimetype": "text/x-python",
   "name": "python",
   "nbconvert_exporter": "python",
   "pygments_lexer": "ipython3",
   "version": "3.9.12"
  }
 },
 "nbformat": 4,
 "nbformat_minor": 5
}
