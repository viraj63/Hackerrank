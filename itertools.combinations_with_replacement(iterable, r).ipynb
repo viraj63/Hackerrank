{
 "cells": [
  {
   "cell_type": "markdown",
   "id": "39f3e748",
   "metadata": {},
   "source": [
    "This tool returns  length subsequences of elements from the input iterable allowing individual elements to be repeated more than once.\n",
    "\n",
    "Combinations are emitted in lexicographic sorted order. So, if the input iterable is sorted, the combination tuples will be produced in sorted order."
   ]
  },
  {
   "cell_type": "code",
   "execution_count": 1,
   "id": "63ec4f70",
   "metadata": {},
   "outputs": [
    {
     "name": "stdout",
     "output_type": "stream",
     "text": [
      "Hack 2\n",
      "HH\n",
      "Ha\n",
      "Hc\n",
      "Hk\n",
      "aa\n",
      "ac\n",
      "ak\n",
      "cc\n",
      "ck\n",
      "kk\n"
     ]
    }
   ],
   "source": [
    "# Enter your code here. Read input from STDIN. Print output to STDOUT\n",
    "from itertools import combinations_with_replacement\n",
    "s,k=input().split()\n",
    "to=sorted(s)\n",
    "t=(list(combinations_with_replacement(to,int(k))))\n",
    "for i in (t):\n",
    "    print(\"\".join(i))\n"
   ]
  },
  {
   "cell_type": "code",
   "execution_count": null,
   "id": "a7087fda",
   "metadata": {},
   "outputs": [],
   "source": []
  }
 ],
 "metadata": {
  "kernelspec": {
   "display_name": "Python 3 (ipykernel)",
   "language": "python",
   "name": "python3"
  },
  "language_info": {
   "codemirror_mode": {
    "name": "ipython",
    "version": 3
   },
   "file_extension": ".py",
   "mimetype": "text/x-python",
   "name": "python",
   "nbconvert_exporter": "python",
   "pygments_lexer": "ipython3",
   "version": "3.9.12"
  }
 },
 "nbformat": 4,
 "nbformat_minor": 5
}
