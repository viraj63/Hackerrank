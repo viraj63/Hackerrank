{
 "cells": [
  {
   "cell_type": "code",
   "execution_count": 1,
   "id": "063bb25c",
   "metadata": {},
   "outputs": [
    {
     "name": "stdout",
     "output_type": "stream",
     "text": [
      "3 100\n",
      "2 3 4 6\n",
      "4 3 2 4 6\n",
      "1 5 6\n",
      "77\n"
     ]
    }
   ],
   "source": [
    "s, k = map(int, input().split())\n",
    "lsts = []\n",
    "\n",
    "for _ in range(s):\n",
    "    size, *ele = map(int, input().split())\n",
    "    sublist = ele[:size]\n",
    "    lsts.append(sorted(sublist))\n",
    "#print((lsts))\n",
    "t=[]\n",
    "for i in lsts:\n",
    "    t.append(i[-1])\n",
    "#print((t))\n",
    "maxi=0\n",
    "for j in range(len(t)):\n",
    "    maxi=maxi + t[j]**2\n",
    "print(maxi%k)"
   ]
  },
  {
   "cell_type": "code",
   "execution_count": null,
   "id": "e6316c5c",
   "metadata": {},
   "outputs": [],
   "source": [
    "print(lists)"
   ]
  },
  {
   "cell_type": "code",
   "execution_count": 7,
   "id": "3521af85",
   "metadata": {},
   "outputs": [
    {
     "name": "stdout",
     "output_type": "stream",
     "text": [
      "[]\n"
     ]
    }
   ],
   "source": [
    "# Enter your code here. Read input from STDIN. Print output to STDOUT\n",
    "from itertools import combinations\n",
    "s, k = map(int, input().split())\n",
    "lsts = []\n",
    "\n",
    "for _ in range(s):\n",
    "    size, *ele = map(int, input().split())\n",
    "    sublist = ele[:size]\n",
    "    lsts.append((sublist))\n",
    "#print((lsts))\n",
    "#till here we have taken the list from the user\n",
    "#now lest do the combinations\n",
    "comb=[[]]  #so create an empty list of list\n",
    "for i in lsts:\n",
    "    new_comb=[]\n",
    "    for elem in i:\n",
    "        for t in comb:\n",
    "            new_comb.append( t + [elem] )\n",
    "    comb=new_comb\n",
    "\n",
    "\n",
    "for sublist in comb:\n",
    "    for i in range(len(sublist)):\n",
    "        sublist[i] = sublist[i]**2 \n",
    "    \n",
    "sums = []\n",
    "for sublist in comb:\n",
    "    sums.append(sum(sublist))\n",
    " \n",
    "po=[]\n",
    "for i in sums:\n",
    "    po.append(i%k)\n",
    "print(max(po))\n",
    "\n",
    "\n",
    "    \n",
    "\n"
   ]
  },
  {
   "cell_type": "code",
   "execution_count": null,
   "id": "7f9b405a",
   "metadata": {},
   "outputs": [],
   "source": []
  }
 ],
 "metadata": {
  "kernelspec": {
   "display_name": "Python 3 (ipykernel)",
   "language": "python",
   "name": "python3"
  },
  "language_info": {
   "codemirror_mode": {
    "name": "ipython",
    "version": 3
   },
   "file_extension": ".py",
   "mimetype": "text/x-python",
   "name": "python",
   "nbconvert_exporter": "python",
   "pygments_lexer": "ipython3",
   "version": "3.9.12"
  }
 },
 "nbformat": 4,
 "nbformat_minor": 5
}
