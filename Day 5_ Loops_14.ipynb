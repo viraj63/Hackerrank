{
 "cells": [
  {
   "cell_type": "markdown",
   "id": "8a8fedd7",
   "metadata": {},
   "source": [
    "Objective\n",
    "In this challenge, we will use loops to do some math. Check out the Tutorial tab to learn more.\n",
    "\n",
    "Task\n",
    "Given an integer,n , print its first 10 multiples. Each multiple n x i (where 1<=i<=10) should be printed on a new line in the form: n x i = result."
   ]
  },
  {
   "cell_type": "code",
   "execution_count": 1,
   "id": "a843dff7",
   "metadata": {},
   "outputs": [
    {
     "name": "stdout",
     "output_type": "stream",
     "text": [
      "2\n",
      "2 x 1 = 2\n",
      "2 x 2 = 4\n",
      "2 x 3 = 6\n",
      "2 x 4 = 8\n",
      "2 x 5 = 10\n",
      "2 x 6 = 12\n",
      "2 x 7 = 14\n",
      "2 x 8 = 16\n",
      "2 x 9 = 18\n",
      "2 x 10 = 20\n"
     ]
    }
   ],
   "source": [
    "inp=int(input())\n",
    "for i in range(1,11):\n",
    "    print(f\"{inp} x {i} = {inp*i}\")"
   ]
  },
  {
   "cell_type": "code",
   "execution_count": null,
   "id": "36afed02",
   "metadata": {},
   "outputs": [],
   "source": []
  }
 ],
 "metadata": {
  "kernelspec": {
   "display_name": "Python 3 (ipykernel)",
   "language": "python",
   "name": "python3"
  },
  "language_info": {
   "codemirror_mode": {
    "name": "ipython",
    "version": 3
   },
   "file_extension": ".py",
   "mimetype": "text/x-python",
   "name": "python",
   "nbconvert_exporter": "python",
   "pygments_lexer": "ipython3",
   "version": "3.9.12"
  }
 },
 "nbformat": 4,
 "nbformat_minor": 5
}
