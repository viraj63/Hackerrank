{
 "cells": [
  {
   "cell_type": "code",
   "execution_count": 27,
   "id": "b1294c79",
   "metadata": {},
   "outputs": [],
   "source": [
    "a=3675356291"
   ]
  },
  {
   "cell_type": "code",
   "execution_count": 28,
   "id": "c8b01ff0",
   "metadata": {},
   "outputs": [],
   "source": [
    "b=str(a)"
   ]
  },
  {
   "cell_type": "code",
   "execution_count": 29,
   "id": "2495cc74",
   "metadata": {},
   "outputs": [
    {
     "name": "stdout",
     "output_type": "stream",
     "text": [
      "3675356291\n"
     ]
    }
   ],
   "source": [
    "print(b)"
   ]
  },
  {
   "cell_type": "code",
   "execution_count": 41,
   "id": "4846facf",
   "metadata": {},
   "outputs": [],
   "source": [
    "c=list()\n",
    "for i in range(len(b)-5):\n",
    "    con=b[i:i+5]\n",
    "    c.append(con)"
   ]
  },
  {
   "cell_type": "code",
   "execution_count": 42,
   "id": "c14ee2fc",
   "metadata": {},
   "outputs": [],
   "source": [
    "t=[]\n",
    "for i in c:\n",
    "    t.append(int(i))"
   ]
  },
  {
   "cell_type": "code",
   "execution_count": 43,
   "id": "fd5d78bd",
   "metadata": {},
   "outputs": [],
   "source": [
    "lis2=[]\n",
    "for i in c:\n",
    "    dum=[]\n",
    "    for j in i:\n",
    "        dum.append(j)\n",
    "    lis2.append(dum)"
   ]
  },
  {
   "cell_type": "code",
   "execution_count": 45,
   "id": "d97cfb3e",
   "metadata": {},
   "outputs": [],
   "source": [
    "res=[]\n",
    "for i in lis2:\n",
    "    prod=1\n",
    "    for j in i:\n",
    "        prod*=int(j)\n",
    "    res.append(prod)"
   ]
  },
  {
   "cell_type": "code",
   "execution_count": 46,
   "id": "4344daa5",
   "metadata": {},
   "outputs": [
    {
     "data": {
      "text/plain": [
       "[1890, 3150, 3150, 900, 1620]"
      ]
     },
     "execution_count": 46,
     "metadata": {},
     "output_type": "execute_result"
    }
   ],
   "source": [
    "res"
   ]
  },
  {
   "cell_type": "code",
   "execution_count": 47,
   "id": "2edf4282",
   "metadata": {},
   "outputs": [
    {
     "name": "stdout",
     "output_type": "stream",
     "text": [
      "3150\n"
     ]
    }
   ],
   "source": [
    "print(max(res))"
   ]
  },
  {
   "cell_type": "code",
   "execution_count": null,
   "id": "b26d5b62",
   "metadata": {},
   "outputs": [],
   "source": []
  }
 ],
 "metadata": {
  "kernelspec": {
   "display_name": "Python 3 (ipykernel)",
   "language": "python",
   "name": "python3"
  },
  "language_info": {
   "codemirror_mode": {
    "name": "ipython",
    "version": 3
   },
   "file_extension": ".py",
   "mimetype": "text/x-python",
   "name": "python",
   "nbconvert_exporter": "python",
   "pygments_lexer": "ipython3",
   "version": "3.9.12"
  }
 },
 "nbformat": 4,
 "nbformat_minor": 5
}
