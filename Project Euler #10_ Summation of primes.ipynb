{
 "cells": [
  {
   "cell_type": "code",
   "execution_count": 2,
   "id": "7f7a5a12",
   "metadata": {},
   "outputs": [
    {
     "name": "stdout",
     "output_type": "stream",
     "text": [
      "2\n",
      "5\n",
      "10\n",
      "10\n",
      "17\n"
     ]
    }
   ],
   "source": [
    "#!/bin/python3\n",
    "a=int(input())\n",
    "lis=list()\n",
    "for _ in range(a):\n",
    "    lis.append(int(input()))\n",
    "lis1=[]\n",
    "count=0\n",
    "for k in lis:\n",
    "    dum_lis=[]\n",
    "    for i in range(2,k+1):\n",
    "        count=0\n",
    "        prime=True\n",
    "        for j in range(2, int(i**0.5)+1):\n",
    "            if i%j==0:\n",
    "                prime=False\n",
    "                break\n",
    "        if prime:\n",
    "            dum_lis.append(i)\n",
    "            count+=1\n",
    "            if count==k:\n",
    "                break\n",
    "       \n",
    "    lis1.append(dum_lis)\n",
    "for i in lis1:\n",
    "    print(sum(i))\n",
    "        "
   ]
  },
  {
   "cell_type": "markdown",
   "id": "799da4bd",
   "metadata": {},
   "source": [
    "# "
   ]
  }
 ],
 "metadata": {
  "kernelspec": {
   "display_name": "Python 3 (ipykernel)",
   "language": "python",
   "name": "python3"
  },
  "language_info": {
   "codemirror_mode": {
    "name": "ipython",
    "version": 3
   },
   "file_extension": ".py",
   "mimetype": "text/x-python",
   "name": "python",
   "nbconvert_exporter": "python",
   "pygments_lexer": "ipython3",
   "version": "3.9.12"
  }
 },
 "nbformat": 4,
 "nbformat_minor": 5
}
