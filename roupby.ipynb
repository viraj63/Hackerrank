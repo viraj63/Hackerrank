{
 "cells": [
  {
   "cell_type": "code",
   "execution_count": 58,
   "id": "9f8e8a89",
   "metadata": {},
   "outputs": [
    {
     "name": "stdout",
     "output_type": "stream",
     "text": [
      "82468236\n",
      "{8: 2, 2: 2, 4: 1, 6: 2, 3: 1}\n"
     ]
    }
   ],
   "source": [
    "num=input()\n",
    "#here we have taken the input as str\n",
    "p=[]  #initializing a list\n",
    "for i in num:  #creating a for list for appending the items in list\n",
    "    p.append(int(i)) #appennding the list items as a list\n",
    "#z=list(map(int,num)) one can use map function instaed of the above\n",
    "co={}  #creating  an empty dictionary\n",
    "for i in p: #using a for loop\n",
    "    if not i in co: #Checking if an element is not in co then adding that elemnt in it\n",
    "        co[i]=1\n",
    "    else:  #if the element is already present then counting the item in the list.Note that we are counting all items in list.\n",
    "        co[i]+=1\n",
    "print(co)"
   ]
  },
  {
   "cell_type": "code",
   "execution_count": 59,
   "id": "df677b53",
   "metadata": {},
   "outputs": [
    {
     "data": {
      "text/plain": [
       "[8, 2, 4, 6, 8, 2, 3, 6]"
      ]
     },
     "execution_count": 59,
     "metadata": {},
     "output_type": "execute_result"
    }
   ],
   "source": [
    "z=list(map(int,num))\n",
    "z"
   ]
  },
  {
   "cell_type": "code",
   "execution_count": 60,
   "id": "54205ba9",
   "metadata": {},
   "outputs": [
    {
     "name": "stdout",
     "output_type": "stream",
     "text": [
      "(1, 8)(1, 2)(1, 4)(1, 6)(1, 8)(1, 2)(1, 3)(1, 6)\n"
     ]
    }
   ],
   "source": [
    "str1=\"\"\n",
    "count=1\n",
    "for i in range(len(z)):\n",
    "    if i<len(z)-1 and z[i]==z[i+1]:\n",
    "        count+=1\n",
    "    else:\n",
    "        str1+=f\"({count}, {z[i]})\"\n",
    "print(str1.strip())"
   ]
  },
  {
   "cell_type": "code",
   "execution_count": 61,
   "id": "4cba56dc",
   "metadata": {},
   "outputs": [
    {
     "name": "stdout",
     "output_type": "stream",
     "text": [
      "82468236\n",
      "(1, 8) (1, 2) (1, 4) (1, 6) (1, 8) (1, 2) (1, 3) (1, 6) "
     ]
    }
   ],
   "source": [
    "\n",
    "from itertools import groupby \n",
    "num=input()\n",
    "count=1\n",
    "for ke,gp in groupby(num):\n",
    "    \n",
    "    print(f\"({len(list(gp))}, {ke})\",end=' ')"
   ]
  },
  {
   "cell_type": "code",
   "execution_count": null,
   "id": "03136317",
   "metadata": {},
   "outputs": [],
   "source": []
  }
 ],
 "metadata": {
  "kernelspec": {
   "display_name": "Python 3 (ipykernel)",
   "language": "python",
   "name": "python3"
  },
  "language_info": {
   "codemirror_mode": {
    "name": "ipython",
    "version": 3
   },
   "file_extension": ".py",
   "mimetype": "text/x-python",
   "name": "python",
   "nbconvert_exporter": "python",
   "pygments_lexer": "ipython3",
   "version": "3.9.12"
  }
 },
 "nbformat": 4,
 "nbformat_minor": 5
}
