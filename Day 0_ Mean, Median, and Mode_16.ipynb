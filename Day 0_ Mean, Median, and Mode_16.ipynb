{
 "cells": [
  {
   "cell_type": "code",
   "execution_count": 1,
   "id": "659e838b",
   "metadata": {},
   "outputs": [
    {
     "name": "stdout",
     "output_type": "stream",
     "text": [
      "20\n",
      "6392 51608 71247 14271 48327 50618 67435 47029 61857 22987 64858 99745 75504 85464 60482 30320 11342 48808 66882 40522\n",
      "51284.9\n",
      "51113.0\n",
      "6392\n"
     ]
    }
   ],
   "source": [
    "# Enter your code here. Read input from STDIN. Print output to STDOUT\n",
    "import math\n",
    "num1=int(input())\n",
    "nums=(input().split(' '))\n",
    "int_num=[int(i) for i in nums]\n",
    "a=round(sum(int_num)/num1,1)\n",
    "int_num1=sorted(int_num)\n",
    "\n",
    "if len(int_num1)%2==0:\n",
    "    b=(int_num1[int(len(int_num1)/2) - 1 ] + int_num1[int(len(int_num1)/2)])/2\n",
    "else:\n",
    "    b=math.ceil(int_num1[int(len(int_num1)/2)  ])\n",
    " \n",
    "def find_mode(int_numlis):\n",
    "    freq={}\n",
    "    for i in int_numlis:\n",
    "        if i in freq:\n",
    "            freq[i]+=1\n",
    "        else:\n",
    "            freq[i]=1\n",
    "    return freq \n",
    "\n",
    "#print(int_num1)\n",
    "print(a)\n",
    "print(b)\n",
    "c=find_mode(int_num1)\n",
    "max_key = max(c, key=c.get)\n",
    "print(max_key)\n",
    "\n"
   ]
  },
  {
   "cell_type": "code",
   "execution_count": null,
   "id": "4757ae5d",
   "metadata": {},
   "outputs": [],
   "source": []
  }
 ],
 "metadata": {
  "kernelspec": {
   "display_name": "Python 3 (ipykernel)",
   "language": "python",
   "name": "python3"
  },
  "language_info": {
   "codemirror_mode": {
    "name": "ipython",
    "version": 3
   },
   "file_extension": ".py",
   "mimetype": "text/x-python",
   "name": "python",
   "nbconvert_exporter": "python",
   "pygments_lexer": "ipython3",
   "version": "3.9.12"
  }
 },
 "nbformat": 4,
 "nbformat_minor": 5
}
