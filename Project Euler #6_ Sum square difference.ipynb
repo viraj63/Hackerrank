{
 "cells": [
  {
   "cell_type": "code",
   "execution_count": 1,
   "id": "50a9ae77",
   "metadata": {},
   "outputs": [
    {
     "name": "stdout",
     "output_type": "stream",
     "text": [
      "2\n",
      "3\n",
      "10\n",
      "22\n",
      "2640\n"
     ]
    }
   ],
   "source": [
    "#!/bin/python3\n",
    "\n",
    "import sys\n",
    "\n",
    "#MEthod 1\n",
    "a=int(input())\n",
    "lis=[]\n",
    "for _ in range(a):\n",
    "    b=int(input())\n",
    "    lis.append(b)\n",
    "\n",
    "lis2=[]\n",
    "for i in lis:\n",
    "    s=0\n",
    "    for j in range(1,i+1):\n",
    "       s+=j\n",
    "    lis2.append(s)\n",
    "lis3=[]\n",
    "for i in lis2:\n",
    "      lis3.append(i**2)\n",
    "#print(lis3)  #---calculating of the first part(suming and squaring)\n",
    "lis4=[]\n",
    "\n",
    "for i in lis:\n",
    "    sq=1\n",
    "    dum_lis=[]\n",
    "    for j in range(1,i+1):\n",
    "       dum_lis.append(j**2)\n",
    "    lis4.append(dum_lis)\n",
    "lis5=[]\n",
    "for i in lis4:\n",
    "    lis5.append(sum(i))\n",
    "#print(lis5)   #calculating  the second part(squaring and summing)\n",
    "lis6=[]\n",
    "\n",
    "for i in range(len(lis3)):\n",
    "    lis6.append(lis3[i]-lis5[i])\n",
    "for i in lis6:\n",
    "    print(i)\n",
    "    \n",
    "\n",
    "\n",
    "\n",
    "    "
   ]
  },
  {
   "cell_type": "code",
   "execution_count": 2,
   "id": "fa3443ac",
   "metadata": {},
   "outputs": [
    {
     "name": "stdout",
     "output_type": "stream",
     "text": [
      "2\n",
      "3\n",
      "22\n",
      "10\n",
      "2640\n"
     ]
    }
   ],
   "source": [
    "\n",
    "import sys\n",
    "#MEthod 2 using maths equations\n",
    "def square_sum(n):\n",
    "    return ((n*(n+1))//2)**2\n",
    "\n",
    "def sum_squ(n):\n",
    "    return n*(n+1)*(2*n+1)//6\n",
    "\n",
    "def differ(num):\n",
    "    return (square_sum(num) -  sum_squ(num)) \n",
    "    \n",
    "\n",
    "a=int(input())\n",
    "for _ in range(a):\n",
    "    b=int(input())\n",
    "    res=differ(b)\n",
    "    print(res)\n"
   ]
  },
  {
   "cell_type": "code",
   "execution_count": null,
   "id": "1280f390",
   "metadata": {},
   "outputs": [],
   "source": []
  }
 ],
 "metadata": {
  "kernelspec": {
   "display_name": "Python 3 (ipykernel)",
   "language": "python",
   "name": "python3"
  },
  "language_info": {
   "codemirror_mode": {
    "name": "ipython",
    "version": 3
   },
   "file_extension": ".py",
   "mimetype": "text/x-python",
   "name": "python",
   "nbconvert_exporter": "python",
   "pygments_lexer": "ipython3",
   "version": "3.9.12"
  }
 },
 "nbformat": 4,
 "nbformat_minor": 5
}
