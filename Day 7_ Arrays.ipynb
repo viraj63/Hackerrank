{
 "cells": [
  {
   "cell_type": "code",
   "execution_count": 1,
   "id": "eb3cc7d8",
   "metadata": {},
   "outputs": [
    {
     "name": "stdout",
     "output_type": "stream",
     "text": [
      "4\n",
      "1 4 3 2\n",
      "2 3 4 1 "
     ]
    }
   ],
   "source": [
    "num=int(input())\n",
    "p=[i for i in input().split()]\n",
    "t=p[::-1]\n",
    "for i in t:\n",
    "    print(i,end=' ')"
   ]
  },
  {
   "cell_type": "code",
   "execution_count": null,
   "id": "337a630e",
   "metadata": {},
   "outputs": [],
   "source": []
  }
 ],
 "metadata": {
  "kernelspec": {
   "display_name": "Python 3 (ipykernel)",
   "language": "python",
   "name": "python3"
  },
  "language_info": {
   "codemirror_mode": {
    "name": "ipython",
    "version": 3
   },
   "file_extension": ".py",
   "mimetype": "text/x-python",
   "name": "python",
   "nbconvert_exporter": "python",
   "pygments_lexer": "ipython3",
   "version": "3.9.12"
  }
 },
 "nbformat": 4,
 "nbformat_minor": 5
}
