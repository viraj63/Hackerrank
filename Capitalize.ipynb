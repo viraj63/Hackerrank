{
 "cells": [
  {
   "cell_type": "markdown",
   "id": "1084b28d",
   "metadata": {},
   "source": [
    "You are asked to ensure that the first and last names of people begin with a capital letter in their passports. For example, alison heck should be capitalised correctly as Alison Heck.\n",
    "\n",
    "\n",
    "Given a full name, your task is to capitalize the name appropriately.\n",
    "\n",
    "Input Format\n",
    "\n",
    "A single line of input containing the full name, .\n",
    "\n",
    "Constraints\n",
    "\n",
    "The string consists of alphanumeric characters and spaces.\n",
    "Note: in a word only the first character is capitalized. Example 12abc when capitalized remains 12abc.\n",
    "\n",
    "Output Format\n",
    "\n",
    "Print the capitalized string, .\n",
    "\n",
    "Sample Input\n",
    "\n",
    "chris alan\n",
    "Sample Output\n",
    "\n",
    "Chris Alan"
   ]
  },
  {
   "cell_type": "code",
   "execution_count": 13,
   "id": "d4bb10ce",
   "metadata": {},
   "outputs": [
    {
     "name": "stdout",
     "output_type": "stream",
     "text": [
      "R\n"
     ]
    }
   ],
   "source": [
    "s=\"rohan mule\"\n",
    "p=str(s)\n",
    "z=p.split()  # we use split function to split the words.\n",
    "print(z[0][0].upper())"
   ]
  },
  {
   "cell_type": "code",
   "execution_count": 18,
   "id": "da712c16",
   "metadata": {},
   "outputs": [],
   "source": [
    "full_name=\"rohan mule\""
   ]
  },
  {
   "cell_type": "code",
   "execution_count": 19,
   "id": "b85d2e2e",
   "metadata": {},
   "outputs": [
    {
     "name": "stdout",
     "output_type": "stream",
     "text": [
      "Rohan Mule\n"
     ]
    }
   ],
   "source": [
    "capitalized_name = full_name.title()\n",
    "\n",
    "print(capitalized_name)"
   ]
  },
  {
   "cell_type": "code",
   "execution_count": 51,
   "id": "b909759f",
   "metadata": {},
   "outputs": [],
   "source": [
    "\n",
    "# Complete the solve function below.\n",
    "def solve(s):\n",
    "    words = s.split(\" \")  \n",
    "    caps=[]\n",
    "    for word in words:\n",
    "        if word:\n",
    "            cap = word[0].upper() + word[1:]\n",
    "            caps.append(cap)\n",
    "        else:\n",
    "            caps.append(\"\")\n",
    "    caps=\" \".join(caps)\n",
    "    return caps\n",
    "#\n",
    "#if __name__ == '__main__':\n",
    "#    fptr = open(os.environ['OUTPUT_PATH'], 'w')\n",
    "#\n",
    "#    s = input()\n",
    "#\n",
    "#    result = solve(s)\n",
    "#\n",
    "#\n",
    "#    fptr.write(result + '\\n')\n",
    "#\n",
    "#    fptr.close()\n",
    "#    "
   ]
  },
  {
   "cell_type": "code",
   "execution_count": 52,
   "id": "a15ea17b",
   "metadata": {},
   "outputs": [
    {
     "data": {
      "text/plain": [
       "'Parag Patel'"
      ]
     },
     "execution_count": 52,
     "metadata": {},
     "output_type": "execute_result"
    }
   ],
   "source": [
    "solve(\"parag patel\")"
   ]
  },
  {
   "cell_type": "code",
   "execution_count": null,
   "id": "97ca9353",
   "metadata": {},
   "outputs": [],
   "source": []
  }
 ],
 "metadata": {
  "kernelspec": {
   "display_name": "Python 3 (ipykernel)",
   "language": "python",
   "name": "python3"
  },
  "language_info": {
   "codemirror_mode": {
    "name": "ipython",
    "version": 3
   },
   "file_extension": ".py",
   "mimetype": "text/x-python",
   "name": "python",
   "nbconvert_exporter": "python",
   "pygments_lexer": "ipython3",
   "version": "3.9.12"
  }
 },
 "nbformat": 4,
 "nbformat_minor": 5
}
