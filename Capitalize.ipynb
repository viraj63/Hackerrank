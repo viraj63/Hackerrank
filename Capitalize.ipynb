{
 "cells": [
  {
   "cell_type": "markdown",
   "id": "1084b28d",
   "metadata": {},
   "source": [
    "You are asked to ensure that the first and last names of people begin with a capital letter in their passports. For example, alison heck should be capitalised correctly as Alison Heck.\n",
    "\n",
    "\n",
    "Given a full name, your task is to capitalize the name appropriately.\n",
    "\n",
    "Input Format\n",
    "\n",
    "A single line of input containing the full name, .\n",
    "\n",
    "Constraints\n",
    "\n",
    "The string consists of alphanumeric characters and spaces.\n",
    "Note: in a word only the first character is capitalized. Example 12abc when capitalized remains 12abc.\n",
    "\n",
    "Output Format\n",
    "\n",
    "Print the capitalized string, .\n",
    "\n",
    "Sample Input\n",
    "\n",
    "chris alan\n",
    "Sample Output\n",
    "\n",
    "Chris Alan"
   ]
  },
  {
   "cell_type": "code",
   "execution_count": 13,
   "id": "d4bb10ce",
   "metadata": {},
   "outputs": [
    {
     "name": "stdout",
     "output_type": "stream",
     "text": [
      "R\n"
     ]
    }
   ],
   "source": [
    "s=\"rohan mule\"\n",
    "p=str(s)\n",
    "z=p.split()  # we use split function to split the words.\n",
    "print(z[0][0].upper())"
   ]
  },
  {
   "cell_type": "code",
   "execution_count": 18,
   "id": "da712c16",
   "metadata": {},
   "outputs": [],
   "source": [
    "full_name=\"rohan mule\""
   ]
  },
  {
   "cell_type": "code",
   "execution_count": 19,
   "id": "b85d2e2e",
   "metadata": {},
   "outputs": [
    {
     "name": "stdout",
     "output_type": "stream",
     "text": [
      "Rohan Mule\n"
     ]
    }
   ],
   "source": [
    "capitalized_name = full_name.title()\n",
    "\n",
    "print(capitalized_name)"
   ]
  },
  {
   "cell_type": "code",
   "execution_count": 50,
   "id": "923e30bc",
   "metadata": {},
   "outputs": [
    {
     "ename": "NameError",
     "evalue": "name 'os' is not defined",
     "output_type": "error",
     "traceback": [
      "\u001b[1;31m---------------------------------------------------------------------------\u001b[0m",
      "\u001b[1;31mNameError\u001b[0m                                 Traceback (most recent call last)",
      "Input \u001b[1;32mIn [50]\u001b[0m, in \u001b[0;36m<cell line: 14>\u001b[1;34m()\u001b[0m\n\u001b[0;32m     12\u001b[0m     \u001b[38;5;28;01mreturn\u001b[39;00m caps\n\u001b[0;32m     14\u001b[0m \u001b[38;5;28;01mif\u001b[39;00m \u001b[38;5;18m__name__\u001b[39m \u001b[38;5;241m==\u001b[39m \u001b[38;5;124m'\u001b[39m\u001b[38;5;124m__main__\u001b[39m\u001b[38;5;124m'\u001b[39m:\n\u001b[1;32m---> 15\u001b[0m     fptr \u001b[38;5;241m=\u001b[39m \u001b[38;5;28mopen\u001b[39m(\u001b[43mos\u001b[49m\u001b[38;5;241m.\u001b[39menviron[\u001b[38;5;124m'\u001b[39m\u001b[38;5;124mOUTPUT_PATH\u001b[39m\u001b[38;5;124m'\u001b[39m], \u001b[38;5;124m'\u001b[39m\u001b[38;5;124mw\u001b[39m\u001b[38;5;124m'\u001b[39m)\n\u001b[0;32m     17\u001b[0m     s \u001b[38;5;241m=\u001b[39m \u001b[38;5;28minput\u001b[39m()\n\u001b[0;32m     19\u001b[0m     result \u001b[38;5;241m=\u001b[39m solve(s)\n",
      "\u001b[1;31mNameError\u001b[0m: name 'os' is not defined"
     ]
    }
   ],
   "source": [
    "\n",
    "# Complete the solve function below.\n",
    "def solve(s):\n",
    "    words = s.split(\" \")  \n",
    "    caps=[]\n",
    "    for word in words:\n",
    "        if word:\n",
    "            cap = word[0].upper() + word[1:]\n",
    "            caps.append(cap)\n",
    "        else:\n",
    "            caps.append(\"\")\n",
    "    caps=\" \".join(caps)\n",
    "    return caps\n",
    "#\n",
    "#if __name__ == '__main__':\n",
    "#    fptr = open(os.environ['OUTPUT_PATH'], 'w')\n",
    "#\n",
    "#    s = input()\n",
    "#\n",
    "#    result = solve(s)\n",
    "#\n",
    "#\n",
    "#    fptr.write(result + '\\n')\n",
    "\n",
    "    fptr.close()\n",
    "    "
   ]
  },
  {
   "cell_type": "code",
   "execution_count": 47,
   "id": "6f694138",
   "metadata": {},
   "outputs": [
    {
     "name": "stdout",
     "output_type": "stream",
     "text": [
      "Rohan Mule "
     ]
    }
   ],
   "source": []
  },
  {
   "cell_type": "code",
   "execution_count": null,
   "id": "eff4e615",
   "metadata": {},
   "outputs": [],
   "source": []
  }
 ],
 "metadata": {
  "kernelspec": {
   "display_name": "Python 3 (ipykernel)",
   "language": "python",
   "name": "python3"
  },
  "language_info": {
   "codemirror_mode": {
    "name": "ipython",
    "version": 3
   },
   "file_extension": ".py",
   "mimetype": "text/x-python",
   "name": "python",
   "nbconvert_exporter": "python",
   "pygments_lexer": "ipython3",
   "version": "3.9.12"
  }
 },
 "nbformat": 4,
 "nbformat_minor": 5
}
