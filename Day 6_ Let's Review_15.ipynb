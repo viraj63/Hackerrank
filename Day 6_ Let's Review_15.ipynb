{
 "cells": [
  {
   "cell_type": "markdown",
   "id": "c2ea5a64",
   "metadata": {},
   "source": [
    "Objective\n",
    "Today we will expand our knowledge of strings, combining it with what we have already learned about loops. Check out the Tutorial tab for learning materials and an instructional video.\n",
    "\n",
    "Task\n",
    "Given a string, S, of length N that is indexed from 0 to ,N-1 print its even-indexed and odd-indexed characters as 2 space-separated strings on a single line (see the Sample below for more detail).\n",
    "\n",
    "Note: 0 is considered to be an even index."
   ]
  },
  {
   "cell_type": "code",
   "execution_count": 1,
   "id": "77e5ed62",
   "metadata": {},
   "outputs": [
    {
     "name": "stdout",
     "output_type": "stream",
     "text": [
      "2\n",
      "Hacker\n",
      "Rank\n",
      "Hce akr\n",
      "Rn ak\n"
     ]
    }
   ],
   "source": [
    "num=int(input())\n",
    "lis=[]\n",
    "for _ in range(num):\n",
    "    lis.append(input())\n",
    "for i in lis:\n",
    "    print(i[::2] +\" \"+ i[1::2] )"
   ]
  },
  {
   "cell_type": "code",
   "execution_count": null,
   "id": "7e4b1fce",
   "metadata": {},
   "outputs": [],
   "source": []
  }
 ],
 "metadata": {
  "kernelspec": {
   "display_name": "Python 3 (ipykernel)",
   "language": "python",
   "name": "python3"
  },
  "language_info": {
   "codemirror_mode": {
    "name": "ipython",
    "version": 3
   },
   "file_extension": ".py",
   "mimetype": "text/x-python",
   "name": "python",
   "nbconvert_exporter": "python",
   "pygments_lexer": "ipython3",
   "version": "3.9.12"
  }
 },
 "nbformat": 4,
 "nbformat_minor": 5
}
