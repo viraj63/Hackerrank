{
 "cells": [
  {
   "cell_type": "code",
   "execution_count": null,
   "id": "a9953450",
   "metadata": {},
   "outputs": [],
   "source": [
    "/*\n",
    "Enter your query here.\n",
    "*/\n",
    "select distinct(c.company_code),c.founder,count(distinct(e.lead_manager_code)),count(distinct(e.senior_manager_code)),\n",
    "count(distinct(e.manager_code)),count(distinct(e.employee_code))\n",
    "from Company c\n",
    "left join Employee e\n",
    "on c.company_code=e.company_code\n",
    "group by c.company_code,c.founder\n",
    "order by c.company_code ASC;"
   ]
  }
 ],
 "metadata": {
  "kernelspec": {
   "display_name": "Python 3 (ipykernel)",
   "language": "python",
   "name": "python3"
  },
  "language_info": {
   "codemirror_mode": {
    "name": "ipython",
    "version": 3
   },
   "file_extension": ".py",
   "mimetype": "text/x-python",
   "name": "python",
   "nbconvert_exporter": "python",
   "pygments_lexer": "ipython3",
   "version": "3.9.12"
  }
 },
 "nbformat": 4,
 "nbformat_minor": 5
}
