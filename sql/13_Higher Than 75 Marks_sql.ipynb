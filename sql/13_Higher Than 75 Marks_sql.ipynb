{
 "cells": [
  {
   "cell_type": "markdown",
   "id": "e9525886",
   "metadata": {},
   "source": [
    "Query the Name of any student in STUDENTS who scored higher than  Marks. Order your output by the last three characters of each name. If two or more students both have names ending in the same last three characters (i.e.: Bobby, Robby, etc.), secondary sort them by ascending ID."
   ]
  },
  {
   "cell_type": "code",
   "execution_count": null,
   "id": "67257077",
   "metadata": {},
   "outputs": [],
   "source": [
    "select name \n",
    "from students\n",
    "where marks>75\n",
    "order by right(name,3), ID;"
   ]
  }
 ],
 "metadata": {
  "kernelspec": {
   "display_name": "Python 3 (ipykernel)",
   "language": "python",
   "name": "python3"
  },
  "language_info": {
   "codemirror_mode": {
    "name": "ipython",
    "version": 3
   },
   "file_extension": ".py",
   "mimetype": "text/x-python",
   "name": "python",
   "nbconvert_exporter": "python",
   "pygments_lexer": "ipython3",
   "version": "3.9.12"
  }
 },
 "nbformat": 4,
 "nbformat_minor": 5
}
