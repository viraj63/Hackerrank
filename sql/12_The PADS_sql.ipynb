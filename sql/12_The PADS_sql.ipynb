{
 "cells": [
  {
   "cell_type": "markdown",
   "id": "1e004495",
   "metadata": {},
   "source": [
    "Generate the following two result sets:\n",
    "\n",
    "Query an alphabetically ordered list of all names in OCCUPATIONS, immediately followed by the first letter of each profession as a parenthetical (i.e.: enclosed in parentheses). For example: AnActorName(A), ADoctorName(D), AProfessorName(P), and ASingerName(S).\n",
    "Query the number of ocurrences of each occupation in OCCUPATIONS. Sort the occurrences in ascending order, and output them in the following format:\n",
    "\n",
    "There are a total of [occupation_count] [occupation]s.\n",
    "where [occupation_count] is the number of occurrences of an occupation in OCCUPATIONS and [occupation] is the lowercase occupation name. If more than one Occupation has the same [occupation_count], they should be ordered alphabetically.\n",
    "\n",
    "Note: There will be at least two entries in the table for each type of occupation.\n",
    "\n",
    "Input Format\n",
    "\n",
    "The OCCUPATIONS table is described as follows:"
   ]
  },
  {
   "attachments": {
    "1443816414-2a465532e7-1.png": {
     "image/png": "[encoded data removed]"
    }
   },
   "cell_type": "markdown",
   "id": "1234feda",
   "metadata": {},
   "source": [
    "![1443816414-2a465532e7-1.png](attachment:1443816414-2a465532e7-1.png)"
   ]
  },
  {
   "cell_type": "code",
   "execution_count": null,
   "id": "4879adb6",
   "metadata": {},
   "outputs": [],
   "source": [
    "select concat(name,'(',left(occupation,1) , ')') \n",
    "from occupations\n",
    "order by name;\n",
    "Select concat('There are a total of ',count(occupation),' ',lower(occupation),'s.')\n",
    "from occupations\n",
    "group by occupation\n",
    "order by count(occupation),occupation;"
   ]
  }
 ],
 "metadata": {
  "kernelspec": {
   "display_name": "Python 3 (ipykernel)",
   "language": "python",
   "name": "python3"
  },
  "language_info": {
   "codemirror_mode": {
    "name": "ipython",
    "version": 3
   },
   "file_extension": ".py",
   "mimetype": "text/x-python",
   "name": "python",
   "nbconvert_exporter": "python",
   "pygments_lexer": "ipython3",
   "version": "3.9.12"
  }
 },
 "nbformat": 4,
 "nbformat_minor": 5
}
