{
 "cells": [
  {
   "cell_type": "markdown",
   "id": "f1c1926c",
   "metadata": {},
   "source": [
    "itertools.product()\n",
    "\n",
    "This tool computes the cartesian product of input iterables.\n",
    "It is equivalent to nested for-loops.\n",
    "For example, product(A, B) returns the same as ((x,y) for x in A for y in B)."
   ]
  },
  {
   "cell_type": "code",
   "execution_count": 12,
   "id": "ac732dff",
   "metadata": {},
   "outputs": [
    {
     "name": "stdout",
     "output_type": "stream",
     "text": [
      "1 3\n",
      "6 7\n"
     ]
    }
   ],
   "source": [
    "from itertools import product\n",
    "a=list(map(int,input().split()))  # mapping the string in list as Int\n",
    "b=list(map(int,input().split()))  # mapping the string in list as Int\n"
   ]
  },
  {
   "cell_type": "code",
   "execution_count": 13,
   "id": "f9e981d4",
   "metadata": {},
   "outputs": [
    {
     "data": {
      "text/plain": [
       "int"
      ]
     },
     "execution_count": 13,
     "metadata": {},
     "output_type": "execute_result"
    }
   ],
   "source": [
    "type(a[0])"
   ]
  },
  {
   "cell_type": "code",
   "execution_count": 15,
   "id": "564f67b6",
   "metadata": {},
   "outputs": [
    {
     "name": "stdout",
     "output_type": "stream",
     "text": [
      "(1, 6) (1, 7) (3, 6) (3, 7)\n"
     ]
    }
   ],
   "source": [
    "print(*product(a,b))"
   ]
  },
  {
   "cell_type": "code",
   "execution_count": null,
   "id": "a6e5c109",
   "metadata": {},
   "outputs": [],
   "source": []
  }
 ],
 "metadata": {
  "kernelspec": {
   "display_name": "Python 3 (ipykernel)",
   "language": "python",
   "name": "python3"
  },
  "language_info": {
   "codemirror_mode": {
    "name": "ipython",
    "version": 3
   },
   "file_extension": ".py",
   "mimetype": "text/x-python",
   "name": "python",
   "nbconvert_exporter": "python",
   "pygments_lexer": "ipython3",
   "version": "3.9.12"
  }
 },
 "nbformat": 4,
 "nbformat_minor": 5
}
