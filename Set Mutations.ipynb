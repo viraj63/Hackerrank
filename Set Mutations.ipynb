{
 "cells": [
  {
   "cell_type": "code",
   "execution_count": 3,
   "id": "03ea126c",
   "metadata": {},
   "outputs": [],
   "source": [
    "h=set(\"hacker\")\n",
    "R = set(\"Rank\")\n",
    "h.intersection_update(R)"
   ]
  },
  {
   "cell_type": "code",
   "execution_count": 4,
   "id": "fa4f5859",
   "metadata": {},
   "outputs": [
    {
     "name": "stdout",
     "output_type": "stream",
     "text": [
      "{'a', 'k'}\n"
     ]
    }
   ],
   "source": [
    "print(h)"
   ]
  },
  {
   "cell_type": "code",
   "execution_count": null,
   "id": "07580a6a",
   "metadata": {},
   "outputs": [],
   "source": [
    "# Enter your code here. Read input from STDIN. Print output to STDOUT\n",
    "a=int(input())\n",
    "b=set(map(int,input().split())) #use the map function to specidy the variable type.\n",
    "\n",
    "#so my task is to execute those operation and print the sum of elements from Set A\n",
    "c=int(input())\n",
    "\n",
    "for _ in range(c):\n",
    "    action,inp=input().split()\n",
    "    other_set=set(map(int, input().split()))\n",
    "    if action ==\"intersection_update\":\n",
    "        b.intersection_update(other_set)\n",
    "    elif action == \"update\":\n",
    "        b.update(other_set)\n",
    "    elif action == \"symmetric_difference_update\":\n",
    "        b.symmetric_difference_update(other_set)\n",
    "    elif action == \"difference_update\":\n",
    "        b.difference_update(other_set)\n",
    "print(sum(b))"
   ]
  }
 ],
 "metadata": {
  "kernelspec": {
   "display_name": "Python 3 (ipykernel)",
   "language": "python",
   "name": "python3"
  },
  "language_info": {
   "codemirror_mode": {
    "name": "ipython",
    "version": 3
   },
   "file_extension": ".py",
   "mimetype": "text/x-python",
   "name": "python",
   "nbconvert_exporter": "python",
   "pygments_lexer": "ipython3",
   "version": "3.9.12"
  }
 },
 "nbformat": 4,
 "nbformat_minor": 5
}
