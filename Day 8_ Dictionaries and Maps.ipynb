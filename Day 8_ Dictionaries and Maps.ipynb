{
 "cells": [
  {
   "cell_type": "code",
   "execution_count": null,
   "id": "ff96656b",
   "metadata": {},
   "outputs": [
    {
     "name": "stdout",
     "output_type": "stream",
     "text": [
      "3\n",
      "sam 99912222\n",
      "tom 11122222\n",
      "harry 12299933\n",
      "sam\n",
      "sam=99912222\n",
      "wdward\n",
      "Not found\n",
      "harry\n",
      "harry=12299933\n",
      "\n",
      "Not found\n",
      "\n",
      "Not found\n",
      ";\n",
      "Not found\n",
      "\n",
      "Not found\n"
     ]
    }
   ],
   "source": [
    "# Enter your code here. Read input from STDIN. Print output to STDOUT\n",
    "num=int(input())\n",
    "dic={}\n",
    "for _ in range(num):\n",
    "    n,p=input().split()\n",
    "    dic[n]=p\n",
    "\n",
    "    \n",
    "while True:\n",
    "    try:\n",
    "        ky=input()\n",
    "        if ky in dic:\n",
    "            print(f\"{ky}={dic[ky]}\")\n",
    "        else:\n",
    "            print(\"Not found\")\n",
    "    except EOFError:\n",
    "            break"
   ]
  },
  {
   "cell_type": "code",
   "execution_count": null,
   "id": "6d7dd6e4",
   "metadata": {},
   "outputs": [],
   "source": []
  }
 ],
 "metadata": {
  "kernelspec": {
   "display_name": "Python 3 (ipykernel)",
   "language": "python",
   "name": "python3"
  },
  "language_info": {
   "codemirror_mode": {
    "name": "ipython",
    "version": 3
   },
   "file_extension": ".py",
   "mimetype": "text/x-python",
   "name": "python",
   "nbconvert_exporter": "python",
   "pygments_lexer": "ipython3",
   "version": "3.9.12"
  }
 },
 "nbformat": 4,
 "nbformat_minor": 5
}
